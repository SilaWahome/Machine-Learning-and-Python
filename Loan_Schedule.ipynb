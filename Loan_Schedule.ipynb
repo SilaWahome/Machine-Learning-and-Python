{
  "nbformat": 4,
  "nbformat_minor": 0,
  "metadata": {
    "colab": {
      "provenance": [],
      "authorship_tag": "ABX9TyN334BBLCD4n5Q97vatajtL",
      "include_colab_link": true
    },
    "kernelspec": {
      "name": "python3",
      "display_name": "Python 3"
    },
    "language_info": {
      "name": "python"
    }
  },
  "cells": [
    {
      "cell_type": "markdown",
      "metadata": {
        "id": "view-in-github",
        "colab_type": "text"
      },
      "source": [
        "<a href=\"https://colab.research.google.com/github/SilaWahome/Machine-Learning-and-Python/blob/main/Loan_Schedule.ipynb\" target=\"_parent\"><img src=\"https://colab.research.google.com/assets/colab-badge.svg\" alt=\"Open In Colab\"/></a>"
      ]
    },
    {
      "cell_type": "markdown",
      "source": [
        "import dependencies"
      ],
      "metadata": {
        "id": "NhH8VNcPQEcN"
      }
    },
    {
      "cell_type": "code",
      "execution_count": 2,
      "metadata": {
        "id": "A6gSysX3Pe0R"
      },
      "outputs": [],
      "source": [
        "import numpy as np\n",
        "import pandas as pd\n",
        "from datetime import date, timedelta\n",
        "import matplotlib.pyplot as plt"
      ]
    },
    {
      "cell_type": "code",
      "source": [
        "def loan_schedule_calculator():\n",
        "  print(\"Loan Schedule  Calculator\")\n",
        "  print(\"/n\")"
      ],
      "metadata": {
        "id": "9SahDXpwQSK-"
      },
      "execution_count": 3,
      "outputs": []
    },
    {
      "cell_type": "markdown",
      "source": [
        "#input parameters"
      ],
      "metadata": {
        "id": "BlRGnxrxQlbM"
      }
    },
    {
      "cell_type": "code",
      "source": [
        "principal=float(input(\"Enter the principal(loan) amount: \"))\n",
        "annual_rate=float(input(\"Enter the annual interest rate: \"))\n",
        "term_years=int(input(\"Enter the term in years: \"))\n",
        "payment_frequency=int(input(\"Enter the payment frequency(in months): \"))\n",
        "compounding_frequency=int(input(\"Enter the compounding frequency(in months): \"))\n",
        "start_date=input(\"Enter the start date(YYYY-MM-DD)if today leave as blank: \")\n",
        "\n",
        "if not start_date:\n",
        "  start_date=date.today()\n",
        "else:\n",
        "  start_date=date.fromisoformat(start_date)\n",
        "\n",
        "#add periodic values\n",
        "\n",
        "total_payments=term_years*payment_frequency\n",
        "periodic_rate=annual_rate/compounding_frequency\n",
        "effective_annual_rate=(1+periodic_rate)**compounding_frequency-1\n",
        "\n",
        "#adding the actuarial aspect\n",
        "if compounding_frequency==payment_frequency:\n",
        "  payment = principal * (periodic_rate * (1 + periodic_rate) ** total_payments) / ((1 + periodic_rate) ** total_payments - 1)\n",
        "else:\n",
        "  #general case\n",
        "  c=compounding_frequency\n",
        "  p=payment_frequency\n",
        "  payment=principal*(effective_annual_rate) / (p*(1-(1+effective_annual_rate)**(-term_years)))\n",
        "\n",
        "payment=round(payment,2)\n",
        "\n",
        "\n",
        "#generate the amortization schedule\n",
        "\n",
        "schedule=[]\n",
        "balance=principal\n",
        "payment_number=0\n",
        "\n",
        "while balance>0.01 and payment_number < total_payments+2:\n",
        "  payment_number+=1\n",
        "  payment_date = start_date+timedelta(days=(365/payment_frequency)*(payment_number))\n",
        "\n",
        "#calculate the interest of the period\n",
        "days_in_period=(payment_date-(start_date+timedelta(days=(365/payment_frequency)*(payment_number-2)))).days if payment_number >1 else 0\n",
        "interest = balance * ((1+effective_annual_rate)**(1/compounding_frequency)-1)*(days_in_period/(365/compounding_frequency)) if payment_number > 1 else 0\n",
        "\n",
        "#for the first payment we use simple interest\n",
        "\n",
        "if payment_number==1:\n",
        "  interest=balance * annual_rate*(1/payment_frequency)\n",
        "\n",
        "principal_payment=min(payment-interest,balance)\n",
        "balance-=principal_payment\n",
        "\n",
        "#ADJUST FINAL PAYMENTS IF NEEDED\n",
        "actual_payment=principal_payment +interest\n",
        "if balance <0.01:\n",
        "  actual_payment +=balance\n",
        "  principal_payment +=balance\n",
        "  balance=0\n",
        "\n",
        "schedule.append([\n",
        "\n",
        "    payment_number,\n",
        "  payment_date.strftime(\"%Y-%m-%d\"),\n",
        "  round(balance+principal_payment,2), #(represents starting balance)\n",
        "  round(actual_payment,2),\n",
        "  round(principal_payment,2),\n",
        "  round(interest,2),\n",
        "  round(balance,2)\n",
        "\n",
        "])\n",
        "\n",
        "df=pd.DataFrame(schedule,columns=[\"Payment Number\",\"Payment Date\",\"Beginning Balance\",\"Payment\",\"Principal\",\"Interest\",\"Ending Balance\"])\n",
        "print(df)\n",
        "\n",
        "#display results\n",
        "print(\"imortilization Schedule:\")\n",
        "display(df.head(10))\n",
        "if len(df)>10:\n",
        "  print(f\"\\n..showing first 10 of{len(df)}payments..\")\n",
        "\n",
        "\n",
        "\n",
        "\n",
        "\n"
      ],
      "metadata": {
        "colab": {
          "base_uri": "https://localhost:8080/",
          "height": 289
        },
        "id": "NsKr2xk8Qkpn",
        "outputId": "5a58b9b1-38f8-4dda-9ef4-12e01cd19215"
      },
      "execution_count": 10,
      "outputs": [
        {
          "output_type": "stream",
          "name": "stdout",
          "text": [
            "Enter the principal(loan) amount: 1000000\n",
            "Enter the annual interest rate: 18\n",
            "Enter the term in years: 12\n",
            "Enter the payment frequency(in months): 10000\n",
            "Enter the compounding frequency(in months): 1\n",
            "Enter the start date(YYYY-MM-DD)if today leave as blank: \n",
            "   Payment Number Payment Date  Beginning Balance  Payment  Principal  \\\n",
            "0          120002   2037-03-28          1000000.0   1800.0     1800.0   \n",
            "\n",
            "   Interest  Ending Balance  \n",
            "0       0.0        998200.0  \n",
            "imortilization Schedule:\n"
          ]
        },
        {
          "output_type": "display_data",
          "data": {
            "text/plain": [
              "   Payment Number Payment Date  Beginning Balance  Payment  Principal  \\\n",
              "0          120002   2037-03-28          1000000.0   1800.0     1800.0   \n",
              "\n",
              "   Interest  Ending Balance  \n",
              "0       0.0        998200.0  "
            ],
            "text/html": [
              "\n",
              "  <div id=\"df-8810c397-f9c9-4037-8e8c-e1dc8381a997\" class=\"colab-df-container\">\n",
              "    <div>\n",
              "<style scoped>\n",
              "    .dataframe tbody tr th:only-of-type {\n",
              "        vertical-align: middle;\n",
              "    }\n",
              "\n",
              "    .dataframe tbody tr th {\n",
              "        vertical-align: top;\n",
              "    }\n",
              "\n",
              "    .dataframe thead th {\n",
              "        text-align: right;\n",
              "    }\n",
              "</style>\n",
              "<table border=\"1\" class=\"dataframe\">\n",
              "  <thead>\n",
              "    <tr style=\"text-align: right;\">\n",
              "      <th></th>\n",
              "      <th>Payment Number</th>\n",
              "      <th>Payment Date</th>\n",
              "      <th>Beginning Balance</th>\n",
              "      <th>Payment</th>\n",
              "      <th>Principal</th>\n",
              "      <th>Interest</th>\n",
              "      <th>Ending Balance</th>\n",
              "    </tr>\n",
              "  </thead>\n",
              "  <tbody>\n",
              "    <tr>\n",
              "      <th>0</th>\n",
              "      <td>120002</td>\n",
              "      <td>2037-03-28</td>\n",
              "      <td>1000000.0</td>\n",
              "      <td>1800.0</td>\n",
              "      <td>1800.0</td>\n",
              "      <td>0.0</td>\n",
              "      <td>998200.0</td>\n",
              "    </tr>\n",
              "  </tbody>\n",
              "</table>\n",
              "</div>\n",
              "    <div class=\"colab-df-buttons\">\n",
              "\n",
              "  <div class=\"colab-df-container\">\n",
              "    <button class=\"colab-df-convert\" onclick=\"convertToInteractive('df-8810c397-f9c9-4037-8e8c-e1dc8381a997')\"\n",
              "            title=\"Convert this dataframe to an interactive table.\"\n",
              "            style=\"display:none;\">\n",
              "\n",
              "  <svg xmlns=\"http://www.w3.org/2000/svg\" height=\"24px\" viewBox=\"0 -960 960 960\">\n",
              "    <path d=\"M120-120v-720h720v720H120Zm60-500h600v-160H180v160Zm220 220h160v-160H400v160Zm0 220h160v-160H400v160ZM180-400h160v-160H180v160Zm440 0h160v-160H620v160ZM180-180h160v-160H180v160Zm440 0h160v-160H620v160Z\"/>\n",
              "  </svg>\n",
              "    </button>\n",
              "\n",
              "  <style>\n",
              "    .colab-df-container {\n",
              "      display:flex;\n",
              "      gap: 12px;\n",
              "    }\n",
              "\n",
              "    .colab-df-convert {\n",
              "      background-color: #E8F0FE;\n",
              "      border: none;\n",
              "      border-radius: 50%;\n",
              "      cursor: pointer;\n",
              "      display: none;\n",
              "      fill: #1967D2;\n",
              "      height: 32px;\n",
              "      padding: 0 0 0 0;\n",
              "      width: 32px;\n",
              "    }\n",
              "\n",
              "    .colab-df-convert:hover {\n",
              "      background-color: #E2EBFA;\n",
              "      box-shadow: 0px 1px 2px rgba(60, 64, 67, 0.3), 0px 1px 3px 1px rgba(60, 64, 67, 0.15);\n",
              "      fill: #174EA6;\n",
              "    }\n",
              "\n",
              "    .colab-df-buttons div {\n",
              "      margin-bottom: 4px;\n",
              "    }\n",
              "\n",
              "    [theme=dark] .colab-df-convert {\n",
              "      background-color: #3B4455;\n",
              "      fill: #D2E3FC;\n",
              "    }\n",
              "\n",
              "    [theme=dark] .colab-df-convert:hover {\n",
              "      background-color: #434B5C;\n",
              "      box-shadow: 0px 1px 3px 1px rgba(0, 0, 0, 0.15);\n",
              "      filter: drop-shadow(0px 1px 2px rgba(0, 0, 0, 0.3));\n",
              "      fill: #FFFFFF;\n",
              "    }\n",
              "  </style>\n",
              "\n",
              "    <script>\n",
              "      const buttonEl =\n",
              "        document.querySelector('#df-8810c397-f9c9-4037-8e8c-e1dc8381a997 button.colab-df-convert');\n",
              "      buttonEl.style.display =\n",
              "        google.colab.kernel.accessAllowed ? 'block' : 'none';\n",
              "\n",
              "      async function convertToInteractive(key) {\n",
              "        const element = document.querySelector('#df-8810c397-f9c9-4037-8e8c-e1dc8381a997');\n",
              "        const dataTable =\n",
              "          await google.colab.kernel.invokeFunction('convertToInteractive',\n",
              "                                                    [key], {});\n",
              "        if (!dataTable) return;\n",
              "\n",
              "        const docLinkHtml = 'Like what you see? Visit the ' +\n",
              "          '<a target=\"_blank\" href=https://colab.research.google.com/notebooks/data_table.ipynb>data table notebook</a>'\n",
              "          + ' to learn more about interactive tables.';\n",
              "        element.innerHTML = '';\n",
              "        dataTable['output_type'] = 'display_data';\n",
              "        await google.colab.output.renderOutput(dataTable, element);\n",
              "        const docLink = document.createElement('div');\n",
              "        docLink.innerHTML = docLinkHtml;\n",
              "        element.appendChild(docLink);\n",
              "      }\n",
              "    </script>\n",
              "  </div>\n",
              "\n",
              "\n",
              "    </div>\n",
              "  </div>\n"
            ],
            "application/vnd.google.colaboratory.intrinsic+json": {
              "type": "dataframe",
              "summary": "{\n  \"name\": \"  print(f\\\"\\\\n\",\n  \"rows\": 1,\n  \"fields\": [\n    {\n      \"column\": \"Payment Number\",\n      \"properties\": {\n        \"dtype\": \"number\",\n        \"std\": null,\n        \"min\": 120002,\n        \"max\": 120002,\n        \"num_unique_values\": 1,\n        \"samples\": [\n          120002\n        ],\n        \"semantic_type\": \"\",\n        \"description\": \"\"\n      }\n    },\n    {\n      \"column\": \"Payment Date\",\n      \"properties\": {\n        \"dtype\": \"object\",\n        \"num_unique_values\": 1,\n        \"samples\": [\n          \"2037-03-28\"\n        ],\n        \"semantic_type\": \"\",\n        \"description\": \"\"\n      }\n    },\n    {\n      \"column\": \"Beginning Balance\",\n      \"properties\": {\n        \"dtype\": \"number\",\n        \"std\": null,\n        \"min\": 1000000.0,\n        \"max\": 1000000.0,\n        \"num_unique_values\": 1,\n        \"samples\": [\n          1000000.0\n        ],\n        \"semantic_type\": \"\",\n        \"description\": \"\"\n      }\n    },\n    {\n      \"column\": \"Payment\",\n      \"properties\": {\n        \"dtype\": \"number\",\n        \"std\": null,\n        \"min\": 1800.0,\n        \"max\": 1800.0,\n        \"num_unique_values\": 1,\n        \"samples\": [\n          1800.0\n        ],\n        \"semantic_type\": \"\",\n        \"description\": \"\"\n      }\n    },\n    {\n      \"column\": \"Principal\",\n      \"properties\": {\n        \"dtype\": \"number\",\n        \"std\": null,\n        \"min\": 1800.0,\n        \"max\": 1800.0,\n        \"num_unique_values\": 1,\n        \"samples\": [\n          1800.0\n        ],\n        \"semantic_type\": \"\",\n        \"description\": \"\"\n      }\n    },\n    {\n      \"column\": \"Interest\",\n      \"properties\": {\n        \"dtype\": \"number\",\n        \"std\": null,\n        \"min\": 0.0,\n        \"max\": 0.0,\n        \"num_unique_values\": 1,\n        \"samples\": [\n          0.0\n        ],\n        \"semantic_type\": \"\",\n        \"description\": \"\"\n      }\n    },\n    {\n      \"column\": \"Ending Balance\",\n      \"properties\": {\n        \"dtype\": \"number\",\n        \"std\": null,\n        \"min\": 998200.0,\n        \"max\": 998200.0,\n        \"num_unique_values\": 1,\n        \"samples\": [\n          998200.0\n        ],\n        \"semantic_type\": \"\",\n        \"description\": \"\"\n      }\n    }\n  ]\n}"
            }
          },
          "metadata": {}
        }
      ]
    }
  ]
}